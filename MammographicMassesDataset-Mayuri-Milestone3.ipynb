{
 "cells": [
  {
   "cell_type": "code",
   "execution_count": 1,
   "metadata": {},
   "outputs": [],
   "source": [
    "# import package\n",
    "import pandas as pd\n",
    "import matplotlib.pyplot as plt\n",
    "import numpy as np"
   ]
  },
  {
   "cell_type": "code",
   "execution_count": 2,
   "metadata": {},
   "outputs": [],
   "source": [
    "#read in MammographicCleanData dataset \n",
    "Mamm = pd.read_csv('C:\\\\FromOldLaptop\\\\UW-data science\\\\Course1-DS-Process and tools\\\\Week9\\\\MammographicCleanData.csv',delimiter=\",\")\n",
    "\n",
    "\n"
   ]
  },
  {
   "cell_type": "code",
   "execution_count": 3,
   "metadata": {},
   "outputs": [
    {
     "data": {
      "text/html": [
       "<div>\n",
       "<style scoped>\n",
       "    .dataframe tbody tr th:only-of-type {\n",
       "        vertical-align: middle;\n",
       "    }\n",
       "\n",
       "    .dataframe tbody tr th {\n",
       "        vertical-align: top;\n",
       "    }\n",
       "\n",
       "    .dataframe thead th {\n",
       "        text-align: right;\n",
       "    }\n",
       "</style>\n",
       "<table border=\"1\" class=\"dataframe\">\n",
       "  <thead>\n",
       "    <tr style=\"text-align: right;\">\n",
       "      <th></th>\n",
       "      <th>DensityNormal</th>\n",
       "      <th>BI-RADSNormal</th>\n",
       "      <th>Age</th>\n",
       "      <th>Severity</th>\n",
       "      <th>Age-Group</th>\n",
       "      <th>Shape_lobular</th>\n",
       "      <th>Shape_oval</th>\n",
       "      <th>Shape_round</th>\n",
       "      <th>Margin_ill-defined</th>\n",
       "      <th>Margin_microlobulated</th>\n",
       "      <th>Margin_obscured</th>\n",
       "      <th>Margin_spiculated</th>\n",
       "    </tr>\n",
       "  </thead>\n",
       "  <tbody>\n",
       "    <tr>\n",
       "      <td>0</td>\n",
       "      <td>0.666667</td>\n",
       "      <td>0.833333</td>\n",
       "      <td>67</td>\n",
       "      <td>1</td>\n",
       "      <td>4.0</td>\n",
       "      <td>1</td>\n",
       "      <td>0</td>\n",
       "      <td>0</td>\n",
       "      <td>0</td>\n",
       "      <td>0</td>\n",
       "      <td>0</td>\n",
       "      <td>1</td>\n",
       "    </tr>\n",
       "    <tr>\n",
       "      <td>1</td>\n",
       "      <td>0.666667</td>\n",
       "      <td>0.666667</td>\n",
       "      <td>43</td>\n",
       "      <td>1</td>\n",
       "      <td>3.0</td>\n",
       "      <td>0</td>\n",
       "      <td>0</td>\n",
       "      <td>1</td>\n",
       "      <td>0</td>\n",
       "      <td>0</td>\n",
       "      <td>0</td>\n",
       "      <td>0</td>\n",
       "    </tr>\n",
       "    <tr>\n",
       "      <td>2</td>\n",
       "      <td>0.666667</td>\n",
       "      <td>0.833333</td>\n",
       "      <td>58</td>\n",
       "      <td>1</td>\n",
       "      <td>3.0</td>\n",
       "      <td>0</td>\n",
       "      <td>0</td>\n",
       "      <td>0</td>\n",
       "      <td>0</td>\n",
       "      <td>0</td>\n",
       "      <td>0</td>\n",
       "      <td>1</td>\n",
       "    </tr>\n",
       "    <tr>\n",
       "      <td>3</td>\n",
       "      <td>0.666667</td>\n",
       "      <td>0.666667</td>\n",
       "      <td>28</td>\n",
       "      <td>0</td>\n",
       "      <td>2.0</td>\n",
       "      <td>0</td>\n",
       "      <td>0</td>\n",
       "      <td>1</td>\n",
       "      <td>0</td>\n",
       "      <td>0</td>\n",
       "      <td>0</td>\n",
       "      <td>0</td>\n",
       "    </tr>\n",
       "    <tr>\n",
       "      <td>4</td>\n",
       "      <td>0.666667</td>\n",
       "      <td>0.833333</td>\n",
       "      <td>74</td>\n",
       "      <td>1</td>\n",
       "      <td>4.0</td>\n",
       "      <td>0</td>\n",
       "      <td>0</td>\n",
       "      <td>1</td>\n",
       "      <td>0</td>\n",
       "      <td>0</td>\n",
       "      <td>0</td>\n",
       "      <td>1</td>\n",
       "    </tr>\n",
       "    <tr>\n",
       "      <td>5</td>\n",
       "      <td>0.666667</td>\n",
       "      <td>0.666667</td>\n",
       "      <td>65</td>\n",
       "      <td>0</td>\n",
       "      <td>4.0</td>\n",
       "      <td>0</td>\n",
       "      <td>0</td>\n",
       "      <td>1</td>\n",
       "      <td>0</td>\n",
       "      <td>0</td>\n",
       "      <td>0</td>\n",
       "      <td>1</td>\n",
       "    </tr>\n",
       "    <tr>\n",
       "      <td>6</td>\n",
       "      <td>0.666667</td>\n",
       "      <td>0.666667</td>\n",
       "      <td>70</td>\n",
       "      <td>0</td>\n",
       "      <td>4.0</td>\n",
       "      <td>0</td>\n",
       "      <td>0</td>\n",
       "      <td>1</td>\n",
       "      <td>0</td>\n",
       "      <td>0</td>\n",
       "      <td>0</td>\n",
       "      <td>1</td>\n",
       "    </tr>\n",
       "    <tr>\n",
       "      <td>7</td>\n",
       "      <td>0.666667</td>\n",
       "      <td>0.833333</td>\n",
       "      <td>42</td>\n",
       "      <td>0</td>\n",
       "      <td>3.0</td>\n",
       "      <td>0</td>\n",
       "      <td>0</td>\n",
       "      <td>1</td>\n",
       "      <td>0</td>\n",
       "      <td>0</td>\n",
       "      <td>0</td>\n",
       "      <td>1</td>\n",
       "    </tr>\n",
       "    <tr>\n",
       "      <td>8</td>\n",
       "      <td>0.666667</td>\n",
       "      <td>0.833333</td>\n",
       "      <td>57</td>\n",
       "      <td>1</td>\n",
       "      <td>3.0</td>\n",
       "      <td>0</td>\n",
       "      <td>0</td>\n",
       "      <td>1</td>\n",
       "      <td>0</td>\n",
       "      <td>0</td>\n",
       "      <td>0</td>\n",
       "      <td>1</td>\n",
       "    </tr>\n",
       "    <tr>\n",
       "      <td>9</td>\n",
       "      <td>0.000000</td>\n",
       "      <td>0.833333</td>\n",
       "      <td>60</td>\n",
       "      <td>1</td>\n",
       "      <td>3.0</td>\n",
       "      <td>0</td>\n",
       "      <td>0</td>\n",
       "      <td>1</td>\n",
       "      <td>0</td>\n",
       "      <td>0</td>\n",
       "      <td>0</td>\n",
       "      <td>1</td>\n",
       "    </tr>\n",
       "  </tbody>\n",
       "</table>\n",
       "</div>"
      ],
      "text/plain": [
       "   DensityNormal  BI-RADSNormal  Age  Severity  Age-Group  Shape_lobular  \\\n",
       "0       0.666667       0.833333   67         1        4.0              1   \n",
       "1       0.666667       0.666667   43         1        3.0              0   \n",
       "2       0.666667       0.833333   58         1        3.0              0   \n",
       "3       0.666667       0.666667   28         0        2.0              0   \n",
       "4       0.666667       0.833333   74         1        4.0              0   \n",
       "5       0.666667       0.666667   65         0        4.0              0   \n",
       "6       0.666667       0.666667   70         0        4.0              0   \n",
       "7       0.666667       0.833333   42         0        3.0              0   \n",
       "8       0.666667       0.833333   57         1        3.0              0   \n",
       "9       0.000000       0.833333   60         1        3.0              0   \n",
       "\n",
       "   Shape_oval  Shape_round  Margin_ill-defined  Margin_microlobulated  \\\n",
       "0           0            0                   0                      0   \n",
       "1           0            1                   0                      0   \n",
       "2           0            0                   0                      0   \n",
       "3           0            1                   0                      0   \n",
       "4           0            1                   0                      0   \n",
       "5           0            1                   0                      0   \n",
       "6           0            1                   0                      0   \n",
       "7           0            1                   0                      0   \n",
       "8           0            1                   0                      0   \n",
       "9           0            1                   0                      0   \n",
       "\n",
       "   Margin_obscured  Margin_spiculated  \n",
       "0                0                  1  \n",
       "1                0                  0  \n",
       "2                0                  1  \n",
       "3                0                  0  \n",
       "4                0                  1  \n",
       "5                0                  1  \n",
       "6                0                  1  \n",
       "7                0                  1  \n",
       "8                0                  1  \n",
       "9                0                  1  "
      ]
     },
     "execution_count": 3,
     "metadata": {},
     "output_type": "execute_result"
    }
   ],
   "source": [
    "# print the first10 rows of data from the dataframe\n",
    "Mamm.head(10)"
   ]
  },
  {
   "cell_type": "code",
   "execution_count": 4,
   "metadata": {},
   "outputs": [
    {
     "data": {
      "image/png": "[encoded data removed]",
      "text/plain": [
       "<Figure size 432x288 with 1 Axes>"
      ]
     },
     "metadata": {
      "needs_background": "light"
     },
     "output_type": "display_data"
    }
   ],
   "source": [
    "plt.hist(Mamm.loc[:, \"BI-RADSNormal\"],rwidth=0.95,color='yellow')\n",
    "plt.show()"
   ]
  },
  {
   "cell_type": "code",
   "execution_count": 6,
   "metadata": {},
   "outputs": [
    {
     "name": "stderr",
     "output_type": "stream",
     "text": [
      "No handles with labels found to put in legend.\n"
     ]
    },
    {
     "data": {
      "image/png": "[encoded data removed]",
      "text/plain": [
       "<Figure size 432x288 with 1 Axes>"
      ]
     },
     "metadata": {},
     "output_type": "display_data"
    }
   ],
   "source": [
    "# Check the distribution of the \"Age\" column\n",
    "# Corece to numeric and impute medians for Age column\n",
    "import seaborn as sns\n",
    "sns.set()\n",
    "\n",
    "Mamm.loc[:, \"Age\"] = pd.to_numeric(Mamm.loc[:, \"Age\"], errors='coerce')\n",
    "HasNan = np.isnan(Mamm.loc[:,\"Age\"]) \n",
    "Mamm.loc[HasNan, \"Age\"] = np.nanmedian(Mamm.loc[:,\"Age\"])\n",
    "sns.set()\n",
    "plt.xlabel(\"Age of patients\")\n",
    "plt.ylabel(\"Totalnumber of patients\")\n",
    "plt.title(\"Histogram2 of Age column\")\n",
    "plt.legend()\n",
    "\n",
    "plt.hist(Mamm.loc[:, \"Age\"],rwidth=0.95,color='green')\n",
    "plt.show()"
   ]
  },
  {
   "cell_type": "code",
   "execution_count": 7,
   "metadata": {},
   "outputs": [
    {
     "name": "stderr",
     "output_type": "stream",
     "text": [
      "No handles with labels found to put in legend.\n"
     ]
    },
    {
     "data": {
      "image/png": "[encoded data removed]",
      "text/plain": [
       "<Figure size 432x288 with 1 Axes>"
      ]
     },
     "metadata": {},
     "output_type": "display_data"
    }
   ],
   "source": [
    "#Check the distribution of the \"Severity\" column\n",
    "MammSeverity= Mamm.loc[:,'Severity']\n",
    "\n",
    "plt.xlabel(\"Reading of Severity\")\n",
    "plt.ylabel(\"Totalnumber of patients\")\n",
    "plt.title(\"Histogram1 of Severity\")\n",
    "plt.legend()\n",
    "plt.hist(Mamm.loc[:, \"Severity\"],rwidth=0.95,color='blue')\n",
    "plt.show()"
   ]
  },
  {
   "cell_type": "code",
   "execution_count": 9,
   "metadata": {},
   "outputs": [
    {
     "data": {
      "image/png": "[encoded data removed]",
      "text/plain": [
       "<Figure size 432x288 with 1 Axes>"
      ]
     },
     "metadata": {},
     "output_type": "display_data"
    }
   ],
   "source": [
    "# Plot all the numeric columns against each other\n",
    "import matplotlib.pyplot as plt\n",
    "#from pandas.tools.plotting import scatter_matrix\n",
    "from pandas.plotting import autocorrelation_plot\n",
    "import seaborn as sns\n",
    "#scatter_matrix(Mamm)\n",
    "plt.scatter(Mamm['Age'],Mamm['BI-RADSNormal'])\n",
    "plt.show()"
   ]
  },
  {
   "cell_type": "code",
   "execution_count": 10,
   "metadata": {},
   "outputs": [
    {
     "data": {
      "image/png": "[encoded data removed]",
      "text/plain": [
       "<Figure size 432x288 with 1 Axes>"
      ]
     },
     "metadata": {},
     "output_type": "display_data"
    }
   ],
   "source": [
    "#_ = scatter_matrix(Mamm, c=Mamm.loc[:,\"Severity\"], figsize=[8,8], s=1000)\n",
    "\n",
    "plt.scatter(Mamm['DensityNormal'],Mamm['BI-RADSNormal'])\n",
    "plt.show()"
   ]
  },
  {
   "cell_type": "markdown",
   "metadata": {},
   "source": [
    "# From above scatter graph, we can confidently say that there is no linear corelation between Density and BIRADS and Age and BIRADS\n",
    "# Predict the severity of the mammography to perform biopsy\n",
    "# This is a classification problem\n",
    "# Severity: benign=0 or malignant=1 (binominal)\n",
    "# Severity as tageget variable\n",
    "    define X and y"
   ]
  },
  {
   "cell_type": "code",
   "execution_count": 11,
   "metadata": {},
   "outputs": [],
   "source": [
    "feature_cols = ['BI-RADSNormal', 'Age', 'DensityNormal','Shape_lobular','Shape_oval','Shape_round','Margin_microlobulated','Margin_spiculated']\n",
    "# X is a matrix, hence we use [] to access the features we want in feature_cols\n",
    "X = Mamm[feature_cols]"
   ]
  },
  {
   "cell_type": "code",
   "execution_count": 13,
   "metadata": {},
   "outputs": [],
   "source": [
    "# y is a vector, hence we use dot to access 'label'\n",
    "y = Mamm.Severity\n",
    "# split X and y into training and testing sets\n",
    "\n",
    "from sklearn.model_selection import train_test_split"
   ]
  },
  {
   "cell_type": "code",
   "execution_count": 14,
   "metadata": {},
   "outputs": [
    {
     "name": "stdout",
     "output_type": "stream",
     "text": [
      "Training sample having dimesions===\n",
      "(768, 8)\n",
      "Testing sample having dimensions=====\n",
      "(193, 8)\n"
     ]
    }
   ],
   "source": [
    "# Spliting data in 80% training and 20% testing\n",
    "X_train, X_test, y_train, y_test = train_test_split(X, y, test_size=0.2)\n",
    "print(\"Training sample having dimesions===\")\n",
    "print(X_train.shape)\n",
    "print(\"Testing sample having dimensions=====\")\n",
    "print(X_test.shape)\n"
   ]
  },
  {
   "cell_type": "code",
   "execution_count": 15,
   "metadata": {},
   "outputs": [
    {
     "name": "stderr",
     "output_type": "stream",
     "text": [
      "C:\\Users\\sagar\\Anaconda3\\lib\\site-packages\\sklearn\\linear_model\\logistic.py:432: FutureWarning: Default solver will be changed to 'lbfgs' in 0.22. Specify a solver to silence this warning.\n",
      "  FutureWarning)\n"
     ]
    },
    {
     "data": {
      "text/plain": [
       "LogisticRegression(C=1.0, class_weight=None, dual=False, fit_intercept=True,\n",
       "                   intercept_scaling=1, l1_ratio=None, max_iter=100,\n",
       "                   multi_class='warn', n_jobs=None, penalty='l2',\n",
       "                   random_state=None, solver='warn', tol=0.0001, verbose=0,\n",
       "                   warm_start=False)"
      ]
     },
     "execution_count": 15,
     "metadata": {},
     "output_type": "execute_result"
    }
   ],
   "source": [
    "# Fit and Test Logistic regression model#Logistic regression model\n",
    "# instantiate model\n",
    "from sklearn.linear_model import LogisticRegression\n",
    "logreg = LogisticRegression()\n",
    "# fit model\n",
    "logreg.fit(X_train, y_train)"
   ]
  },
  {
   "cell_type": "code",
   "execution_count": 16,
   "metadata": {},
   "outputs": [
    {
     "name": "stdout",
     "output_type": "stream",
     "text": [
      "[0 0 1 0 1 1 1 0 0 0 0 0 0 1 0 1 1 1 1 0 1 0 1 1 0 1 0 0 0 1 1 0 1 0 1 1 1\n",
      " 0 0 0 1 0 1 0 1 0 0 0 1 0 0 1 0 0 1 0 0 0 0 0 1 0 1 1 0 1 0 0 0 1 0 0 0 1\n",
      " 1 0 1 1 1 1 0 1 0 1 0 0 0 1 0 0 1 0 0 0 0 0 1 0 1 0 1 0 0 1 1 0 1 0 1 1 1\n",
      " 0 0 1 1 1 1 0 1 0 0 1 0 0 0 1 0 0 1 0 0 1 1 0 0 0 0 1 1 0 1 0 0 0 1 1 0 0\n",
      " 1 0 1 0 1 1 1 1 1 0 0 1 0 1 0 0 0 1 0 1 0 0 0 1 1 1 0 1 1 0 0 1 1 0 0 1 0\n",
      " 0 0 0 0 0 0 1 0]\n"
     ]
    }
   ],
   "source": [
    "# make class predictions for the testing set\n",
    "y_pred_class = logreg.predict(X_test)\n",
    "print(y_pred_class)"
   ]
  },
  {
   "cell_type": "code",
   "execution_count": 17,
   "metadata": {},
   "outputs": [
    {
     "data": {
      "text/plain": [
       "KNeighborsClassifier(algorithm='auto', leaf_size=30, metric='minkowski',\n",
       "                     metric_params=None, n_jobs=None, n_neighbors=5, p=2,\n",
       "                     weights='uniform')"
      ]
     },
     "execution_count": 17,
     "metadata": {},
     "output_type": "execute_result"
    }
   ],
   "source": [
    "# import sklearn KNNclassifier module\n",
    "from sklearn.neighbors import KNeighborsClassifier \n",
    "# instantiate model\n",
    "knn= KNeighborsClassifier()\n",
    "# fit model\n",
    "knn.fit(X_train,y_train)"
   ]
  },
  {
   "cell_type": "code",
   "execution_count": 18,
   "metadata": {},
   "outputs": [
    {
     "name": "stdout",
     "output_type": "stream",
     "text": [
      "[0 0 1 0 1 1 1 0 0 0 0 0 0 1 0 0 1 1 1 0 1 1 1 1 0 1 0 1 0 1 1 0 1 0 1 1 1\n",
      " 0 0 0 1 0 1 0 1 0 0 0 1 1 0 1 0 0 1 0 0 0 0 0 1 0 1 1 0 0 0 0 1 1 0 0 0 1\n",
      " 1 0 1 1 1 1 0 1 1 1 1 0 0 1 0 0 1 0 0 0 1 0 1 0 1 0 1 0 0 1 1 0 1 0 1 1 1\n",
      " 0 0 1 1 1 1 0 1 0 0 1 0 0 0 0 0 0 1 0 0 1 1 0 1 0 0 1 1 0 1 0 0 0 1 1 0 1\n",
      " 0 1 1 1 1 1 1 1 1 0 0 1 0 1 0 0 0 1 1 1 0 1 0 1 1 1 1 0 1 0 0 0 1 0 0 1 1\n",
      " 0 0 0 0 0 0 1 0]\n"
     ]
    }
   ],
   "source": [
    "#make predictions\n",
    "y_knn_pred_class= knn.predict(X_test)\n",
    "print(y_knn_pred_class)\n"
   ]
  },
  {
   "cell_type": "code",
   "execution_count": 19,
   "metadata": {},
   "outputs": [
    {
     "name": "stdout",
     "output_type": "stream",
     "text": [
      "\n",
      "\n",
      "Support Vector Machine classifier\n",
      "\n"
     ]
    }
   ],
   "source": [
    "#import sklearn SVC module \n",
    "from sklearn.svm import SVC\n",
    "print ('\\n\\nSupport Vector Machine classifier\\n')\n",
    "# instantiate model\n",
    "svm = SVC()"
   ]
  },
  {
   "cell_type": "code",
   "execution_count": 20,
   "metadata": {},
   "outputs": [
    {
     "name": "stderr",
     "output_type": "stream",
     "text": [
      "C:\\Users\\sagar\\Anaconda3\\lib\\site-packages\\sklearn\\svm\\base.py:193: FutureWarning: The default value of gamma will change from 'auto' to 'scale' in version 0.22 to account better for unscaled features. Set gamma explicitly to 'auto' or 'scale' to avoid this warning.\n",
      "  \"avoid this warning.\", FutureWarning)\n"
     ]
    },
    {
     "data": {
      "text/plain": [
       "SVC(C=1.0, cache_size=200, class_weight=None, coef0=0.0,\n",
       "    decision_function_shape='ovr', degree=3, gamma='auto_deprecated',\n",
       "    kernel='rbf', max_iter=-1, probability=False, random_state=None,\n",
       "    shrinking=True, tol=0.001, verbose=False)"
      ]
     },
     "execution_count": 20,
     "metadata": {},
     "output_type": "execute_result"
    }
   ],
   "source": [
    "# fit model\n",
    "svm.fit(X_train, y_train)"
   ]
  },
  {
   "cell_type": "code",
   "execution_count": 21,
   "metadata": {},
   "outputs": [
    {
     "name": "stdout",
     "output_type": "stream",
     "text": [
      "[0 0 1 0 1 1 1 0 0 0 0 0 0 1 0 0 1 1 1 0 1 1 1 1 1 1 0 0 0 1 1 0 1 0 1 1 1\n",
      " 0 0 0 1 0 1 0 1 0 0 0 0 1 0 1 0 0 1 0 0 0 0 0 1 0 1 0 0 0 0 0 1 1 0 0 0 1\n",
      " 1 0 0 1 1 0 0 1 1 1 0 0 0 1 0 0 1 0 0 0 0 0 1 1 1 0 1 0 0 1 1 0 1 0 1 1 1\n",
      " 0 0 1 1 1 1 0 1 0 0 1 0 1 1 1 0 0 1 0 0 1 0 0 1 0 0 1 1 0 1 0 1 0 1 1 0 1\n",
      " 0 1 1 0 1 1 1 0 1 0 0 1 0 1 0 0 0 1 0 0 0 0 0 1 1 1 0 1 1 0 0 0 1 0 0 1 1\n",
      " 0 0 0 0 0 1 1 0]\n"
     ]
    }
   ],
   "source": [
    "# make predictions on test data set\n",
    "y_svm_pred_class = svm.predict(X_test)\n",
    "print (y_svm_pred_class)"
   ]
  },
  {
   "cell_type": "code",
   "execution_count": 22,
   "metadata": {},
   "outputs": [],
   "source": [
    "### Fit and apply Descion tree classifier#Decision tree classifier\n",
    "from sklearn.tree import DecisionTreeClassifier\n",
    "#instentiate the model\n",
    "dtc = DecisionTreeClassifier()"
   ]
  },
  {
   "cell_type": "code",
   "execution_count": 24,
   "metadata": {},
   "outputs": [
    {
     "data": {
      "text/plain": [
       "DecisionTreeClassifier(class_weight=None, criterion='gini', max_depth=None,\n",
       "                       max_features=None, max_leaf_nodes=None,\n",
       "                       min_impurity_decrease=0.0, min_impurity_split=None,\n",
       "                       min_samples_leaf=1, min_samples_split=2,\n",
       "                       min_weight_fraction_leaf=0.0, presort=False,\n",
       "                       random_state=None, splitter='best')"
      ]
     },
     "execution_count": 24,
     "metadata": {},
     "output_type": "execute_result"
    }
   ],
   "source": [
    "#fit model\n",
    "dtc.fit(X_train,y_train)"
   ]
  },
  {
   "cell_type": "code",
   "execution_count": 25,
   "metadata": {},
   "outputs": [
    {
     "name": "stdout",
     "output_type": "stream",
     "text": [
      "[0 0 1 0 0 1 1 0 0 0 0 0 0 1 1 0 1 1 0 1 1 0 0 1 0 0 0 0 0 1 1 1 1 0 1 1 0\n",
      " 0 0 0 0 0 1 0 1 0 1 0 1 0 0 1 0 0 1 0 1 0 0 1 1 1 1 1 0 1 0 0 0 1 0 0 0 1\n",
      " 1 0 0 1 1 1 0 0 0 0 0 0 0 1 0 0 1 0 0 0 0 0 1 1 1 0 1 0 0 1 1 0 1 0 0 1 1\n",
      " 0 0 0 0 1 1 0 1 0 0 1 0 0 0 0 0 0 1 0 1 1 0 0 1 0 0 1 0 0 1 0 1 0 1 1 0 1\n",
      " 0 0 0 0 1 1 1 1 1 0 0 1 0 0 0 0 0 1 0 1 0 0 0 1 1 1 0 1 0 0 0 1 1 0 0 1 1\n",
      " 0 0 0 1 0 1 1 0]\n"
     ]
    }
   ],
   "source": [
    "# Make predictions on test data set\n",
    "y_dtc_pred_class= dtc.predict(X_test)\n",
    "print(y_dtc_pred_class)"
   ]
  },
  {
   "cell_type": "code",
   "execution_count": 26,
   "metadata": {},
   "outputs": [
    {
     "name": "stdout",
     "output_type": "stream",
     "text": [
      "0.8290155440414507\n"
     ]
    }
   ],
   "source": [
    "#Calculate classification accuracy\n",
    "from sklearn import metrics\n",
    "# Classification accuracy of logistic regression\n",
    "print(metrics.accuracy_score(y_test,y_pred_class))"
   ]
  },
  {
   "cell_type": "code",
   "execution_count": 27,
   "metadata": {},
   "outputs": [
    {
     "name": "stdout",
     "output_type": "stream",
     "text": [
      "0.7616580310880829\n"
     ]
    }
   ],
   "source": [
    "# Classification accuracy of KNN\n",
    "print(metrics.accuracy_score(y_test,y_knn_pred_class))"
   ]
  },
  {
   "cell_type": "code",
   "execution_count": 29,
   "metadata": {},
   "outputs": [
    {
     "name": "stdout",
     "output_type": "stream",
     "text": [
      "0.7512953367875648\n"
     ]
    }
   ],
   "source": [
    "# Classification accuracy of Decision tree\n",
    "print(metrics.accuracy_score(y_test,y_dtc_pred_class))"
   ]
  },
  {
   "cell_type": "code",
   "execution_count": 30,
   "metadata": {},
   "outputs": [
    {
     "name": "stdout",
     "output_type": "stream",
     "text": [
      "0.7616580310880829\n"
     ]
    }
   ],
   "source": [
    "# Classification accuracy of support vector Matrix\n",
    "print(metrics.accuracy_score(y_test,y_svm_pred_class))\n"
   ]
  },
  {
   "cell_type": "code",
   "execution_count": 31,
   "metadata": {},
   "outputs": [
    {
     "data": {
      "image/png": "[encoded data removed]",
      "text/plain": [
       "<Figure size 432x288 with 1 Axes>"
      ]
     },
     "metadata": {},
     "output_type": "display_data"
    }
   ],
   "source": [
    "Acc_score = [0.80,0.53,0.50,0.50]\n",
    "Classifier=['DescionTree','LogisticReg','KNN','SVM']\n",
    "plt.plot(Classifier,Acc_score)\n",
    "plt.ylim([0.0, 1.0])\n",
    "plt.rcParams['font.size'] = 12\n",
    "plt.title('Accuracy score for Breast cancer classifier')\n",
    "plt.xlabel('Classifier ')\n",
    "plt.ylabel('True Positive Rate (Sensitivity)')\n",
    "plt.grid(True)\n",
    "plt.show()"
   ]
  },
  {
   "cell_type": "code",
   "execution_count": 32,
   "metadata": {},
   "outputs": [],
   "source": [
    "from sklearn.metrics import confusion_matrix\n",
    "from matplotlib import pyplot as plt\n",
    "import itertools\n",
    "from IPython.display import display"
   ]
  },
  {
   "cell_type": "code",
   "execution_count": 33,
   "metadata": {},
   "outputs": [],
   "source": [
    "def plot_confusion_matrix(cm, classes,\n",
    "                          normalize=False,\n",
    "                          title='Confusion matrix',\n",
    "                          cmap=plt.cm.Blues):\n",
    "    \"\"\"\n",
    "    This function prints and plots the confusion matrix.\n",
    "    Normalization can be applied by setting `normalize=True`.\n",
    "    \"\"\"\n",
    "    plt.imshow(cm, interpolation='nearest', cmap=cmap)\n",
    "    plt.title(title)\n",
    "    plt.colorbar()\n",
    "    tick_marks = np.arange(len(classes))\n",
    "    plt.xticks(tick_marks, classes, rotation=45)\n",
    "    plt.yticks(tick_marks, classes)\n",
    "\n",
    "    if normalize:\n",
    "        cm = cm.astype('float') / cm.sum(axis=1)[:, np.newaxis]\n",
    "        print(\"Normalized confusion matrix\")\n",
    "    else:\n",
    "        print('Confusion matrix, without normalization')\n",
    "\n",
    "    print(cm)\n",
    "\n",
    "    thresh = cm.max() / 2.\n",
    "    for i, j in itertools.product(range(cm.shape[0]), range(cm.shape[1])):\n",
    "        plt.text(j, i, cm[i, j],\n",
    "                 horizontalalignment=\"center\",\n",
    "                 color=\"red\" if cm[i, j] > thresh else \"orange\")\n",
    "\n",
    "    plt.tight_layout()\n",
    "    plt.ylabel('True label')\n",
    "    plt.xlabel('Predicted label')"
   ]
  },
  {
   "cell_type": "code",
   "execution_count": 34,
   "metadata": {},
   "outputs": [],
   "source": [
    "def compute_cnf(classifier,x_test,y_test):\n",
    "    cnf_matrix = confusion_matrix(classifier.predict(x_test),y_test)\n",
    "    np.set_printoptions(precision=2)\n",
    "    # Plot non-normalized confusion matrix\n",
    "    plt.figure()\n",
    "    plot_confusion_matrix(cnf_matrix, classes=['Benign','Malignant'],\n",
    "                      title='Confusion matrix, without normalization')\n",
    "\n",
    "    plt.show()"
   ]
  },
  {
   "cell_type": "code",
   "execution_count": 35,
   "metadata": {},
   "outputs": [],
   "source": [
    "from sklearn.metrics import f1_score as fscorer\n",
    "\n",
    "def f1_score(classifier,x_test,y_test):\n",
    "    return fscorer(classifier.predict(X_test),y_test)"
   ]
  },
  {
   "cell_type": "code",
   "execution_count": 36,
   "metadata": {},
   "outputs": [
    {
     "name": "stdout",
     "output_type": "stream",
     "text": [
      "[[92 16]\n",
      " [17 68]]\n"
     ]
    }
   ],
   "source": [
    "#Calculate confusion matrix for logistic regression\n",
    "from sklearn.metrics import *\n",
    "confusion = confusion_matrix(y_test, y_pred_class)\n",
    "print(confusion)"
   ]
  },
  {
   "cell_type": "code",
   "execution_count": 37,
   "metadata": {},
   "outputs": [
    {
     "name": "stdout",
     "output_type": "stream",
     "text": [
      "True positives are\n",
      "68\n"
     ]
    }
   ],
   "source": [
    "print(\"True positives are\") \n",
    "TP = confusion[1,1]\n",
    "print(TP)"
   ]
  },
  {
   "cell_type": "code",
   "execution_count": 38,
   "metadata": {},
   "outputs": [
    {
     "name": "stdout",
     "output_type": "stream",
     "text": [
      "True Negatives are\n",
      "92\n"
     ]
    }
   ],
   "source": [
    "print(\"True Negatives are\") \n",
    "TN = confusion[0,0]\n",
    "print(TN)"
   ]
  },
  {
   "cell_type": "code",
   "execution_count": 39,
   "metadata": {},
   "outputs": [
    {
     "name": "stdout",
     "output_type": "stream",
     "text": [
      "False positives are\n",
      "16\n"
     ]
    }
   ],
   "source": [
    "print(\"False positives are\") \n",
    "FP = confusion[0,1]\n",
    "print(FP)"
   ]
  },
  {
   "cell_type": "code",
   "execution_count": 40,
   "metadata": {},
   "outputs": [
    {
     "name": "stdout",
     "output_type": "stream",
     "text": [
      "False negatives are\n",
      "17\n"
     ]
    }
   ],
   "source": [
    "print(\"False negatives are\") \n",
    "FN = confusion[1,0]\n",
    "print(FN)\n"
   ]
  },
  {
   "cell_type": "code",
   "execution_count": 41,
   "metadata": {},
   "outputs": [
    {
     "name": "stdout",
     "output_type": "stream",
     "text": [
      "0.8290155440414507\n"
     ]
    }
   ],
   "source": [
    "print(accuracy_score(y_test, y_pred_class))"
   ]
  },
  {
   "cell_type": "code",
   "execution_count": 42,
   "metadata": {},
   "outputs": [
    {
     "name": "stdout",
     "output_type": "stream",
     "text": [
      "0.17098445595854928\n"
     ]
    }
   ],
   "source": [
    "# calculate error rate\n",
    "print(1 - accuracy_score(y_test, y_pred_class))\n"
   ]
  },
  {
   "cell_type": "code",
   "execution_count": 43,
   "metadata": {},
   "outputs": [
    {
     "name": "stdout",
     "output_type": "stream",
     "text": [
      "0.8\n"
     ]
    }
   ],
   "source": [
    "#recall \n",
    "print(recall_score(y_test, y_pred_class))"
   ]
  },
  {
   "cell_type": "code",
   "execution_count": 44,
   "metadata": {},
   "outputs": [
    {
     "name": "stdout",
     "output_type": "stream",
     "text": [
      "0.8095238095238095\n"
     ]
    }
   ],
   "source": [
    "#precision\n",
    "print(precision_score(y_test, y_pred_class))\n"
   ]
  },
  {
   "cell_type": "code",
   "execution_count": 45,
   "metadata": {},
   "outputs": [
    {
     "name": "stdout",
     "output_type": "stream",
     "text": [
      "0.8047337278106509\n"
     ]
    }
   ],
   "source": [
    "#f1_score\n",
    "print(f1_score(y_test, y_pred_class))"
   ]
  },
  {
   "cell_type": "code",
   "execution_count": 46,
   "metadata": {},
   "outputs": [
    {
     "name": "stdout",
     "output_type": "stream",
     "text": [
      "0.8290155440414507\n"
     ]
    },
    {
     "name": "stderr",
     "output_type": "stream",
     "text": [
      "C:\\Users\\sagar\\Anaconda3\\lib\\site-packages\\sklearn\\linear_model\\logistic.py:432: FutureWarning: Default solver will be changed to 'lbfgs' in 0.22. Specify a solver to silence this warning.\n",
      "  FutureWarning)\n"
     ]
    }
   ],
   "source": [
    "classifier = LogisticRegression()\n",
    "classifier.fit(X_train,y_train)\n",
    "print (classifier.score(X_test,y_test))"
   ]
  },
  {
   "cell_type": "code",
   "execution_count": 47,
   "metadata": {},
   "outputs": [
    {
     "name": "stdout",
     "output_type": "stream",
     "text": [
      "Confusion matrix, without normalization\n",
      "[[92 17]\n",
      " [16 68]]\n"
     ]
    },
    {
     "data": {
      "image/png": "[encoded data removed]",
      "text/plain": [
       "<Figure size 432x288 with 2 Axes>"
      ]
     },
     "metadata": {},
     "output_type": "display_data"
    }
   ],
   "source": [
    "# Compute and plot confusion matrix\n",
    "compute_cnf(classifier,X_test,y_test)"
   ]
  },
  {
   "cell_type": "code",
   "execution_count": 48,
   "metadata": {},
   "outputs": [],
   "source": [
    "from sklearn.metrics import *"
   ]
  },
  {
   "cell_type": "code",
   "execution_count": 49,
   "metadata": {},
   "outputs": [
    {
     "name": "stdout",
     "output_type": "stream",
     "text": [
      "[[87 21]\n",
      " [27 58]]\n"
     ]
    }
   ],
   "source": [
    "confusion = confusion_matrix(y_test, y_dtc_pred_class)\n",
    "print(confusion)\n"
   ]
  },
  {
   "cell_type": "code",
   "execution_count": 50,
   "metadata": {},
   "outputs": [
    {
     "name": "stdout",
     "output_type": "stream",
     "text": [
      "True positives are\n",
      "58\n",
      "True Negatives are\n",
      "87\n",
      "False positives are\n",
      "21\n",
      "False negatives are\n",
      "27\n"
     ]
    }
   ],
   "source": [
    "print(\"True positives are\") \n",
    "TP = confusion[1,1]\n",
    "print(TP)\n",
    "print(\"True Negatives are\") \n",
    "TN = confusion[0,0]\n",
    "print(TN)\n",
    "print(\"False positives are\") \n",
    "FP = confusion[0,1]\n",
    "print(FP)\n",
    "print(\"False negatives are\") \n",
    "FN = confusion[1,0]\n",
    "print(FN)\n"
   ]
  },
  {
   "cell_type": "code",
   "execution_count": 51,
   "metadata": {},
   "outputs": [
    {
     "name": "stdout",
     "output_type": "stream",
     "text": [
      "0.24870466321243523\n",
      "0.6823529411764706\n",
      "0.7341772151898734\n",
      "0.7073170731707317\n"
     ]
    }
   ],
   "source": [
    "# calculate error rate\n",
    "print(1 - accuracy_score(y_test, y_dtc_pred_class))\n",
    "\n",
    "#recall \n",
    "print(recall_score(y_test, y_dtc_pred_class))\n",
    "\n",
    "#precision\n",
    "print(precision_score(y_test, y_dtc_pred_class))\n",
    "\n",
    "#f1_score\n",
    "print(f1_score(y_test, y_dtc_pred_class))"
   ]
  },
  {
   "cell_type": "code",
   "execution_count": 52,
   "metadata": {},
   "outputs": [
    {
     "name": "stdout",
     "output_type": "stream",
     "text": [
      "0.7512953367875648\n"
     ]
    }
   ],
   "source": [
    "from sklearn.tree import DecisionTreeClassifier\n",
    "\n",
    "classifier = DecisionTreeClassifier()\n",
    "classifier.fit(X_train,y_train)\n",
    "print (classifier.score(X_test,y_test))"
   ]
  },
  {
   "cell_type": "code",
   "execution_count": 53,
   "metadata": {},
   "outputs": [
    {
     "name": "stdout",
     "output_type": "stream",
     "text": [
      "Confusion matrix, without normalization\n",
      "[[88 28]\n",
      " [20 57]]\n"
     ]
    },
    {
     "data": {
      "image/png": "[encoded data removed]",
      "text/plain": [
       "<Figure size 432x288 with 2 Axes>"
      ]
     },
     "metadata": {},
     "output_type": "display_data"
    }
   ],
   "source": [
    "# Compute and plot confusion matrix\n",
    "compute_cnf(classifier,X_test,y_test)"
   ]
  },
  {
   "cell_type": "code",
   "execution_count": 54,
   "metadata": {},
   "outputs": [
    {
     "name": "stdout",
     "output_type": "stream",
     "text": [
      "[[81 27]\n",
      " [19 66]]\n"
     ]
    }
   ],
   "source": [
    "#Calculate confusion matrix for K nearest mean\n",
    "from sklearn.metrics import *\n",
    "confusion = confusion_matrix(y_test, y_knn_pred_class)\n",
    "print(confusion)\n"
   ]
  },
  {
   "cell_type": "code",
   "execution_count": 55,
   "metadata": {},
   "outputs": [
    {
     "name": "stdout",
     "output_type": "stream",
     "text": [
      "True positives are\n",
      "66\n",
      "True Negatives are\n",
      "81\n",
      "False positives are\n",
      "27\n",
      "False negatives are\n",
      "19\n",
      "0.7616580310880829\n"
     ]
    }
   ],
   "source": [
    "print(\"True positives are\")\n",
    "TP = confusion[1,1]\n",
    "print(TP)\n",
    "print(\"True Negatives are\") \n",
    "TN = confusion[0,0]\n",
    "print(TN)\n",
    "print(\"False positives are\") \n",
    "FP = confusion[0,1]\n",
    "print(FP)\n",
    "print(\"False negatives are\") \n",
    "FN = confusion[1,0]\n",
    "print(FN)\n",
    "\n",
    "classifier = KNeighborsClassifier()\n",
    "classifier.fit(X_train,y_train)\n",
    "print (classifier.score(X_test,y_test))\n"
   ]
  },
  {
   "cell_type": "code",
   "execution_count": 56,
   "metadata": {},
   "outputs": [
    {
     "name": "stdout",
     "output_type": "stream",
     "text": [
      "Confusion matrix, without normalization\n",
      "[[81 19]\n",
      " [27 66]]\n"
     ]
    },
    {
     "data": {
      "image/png": "[encoded data removed]",
      "text/plain": [
       "<Figure size 432x288 with 2 Axes>"
      ]
     },
     "metadata": {},
     "output_type": "display_data"
    }
   ],
   "source": [
    "# Compute and plot confusion matrix\n",
    "compute_cnf(classifier,X_test,y_test)"
   ]
  },
  {
   "cell_type": "code",
   "execution_count": 57,
   "metadata": {},
   "outputs": [
    {
     "name": "stdout",
     "output_type": "stream",
     "text": [
      "[[84 24]\n",
      " [22 63]]\n"
     ]
    }
   ],
   "source": [
    "#Calculate confusion matrix for support vector Matrix\n",
    "from sklearn.metrics import *\n",
    "confusion = confusion_matrix(y_test, y_svm_pred_class)\n",
    "print(confusion)"
   ]
  },
  {
   "cell_type": "code",
   "execution_count": 58,
   "metadata": {},
   "outputs": [
    {
     "name": "stdout",
     "output_type": "stream",
     "text": [
      "True positives are\n",
      "63\n",
      "True Negatives are\n",
      "84\n",
      "False positives are\n",
      "24\n",
      "False negatives are\n",
      "0.7616580310880829\n"
     ]
    },
    {
     "name": "stderr",
     "output_type": "stream",
     "text": [
      "C:\\Users\\sagar\\Anaconda3\\lib\\site-packages\\sklearn\\svm\\base.py:193: FutureWarning: The default value of gamma will change from 'auto' to 'scale' in version 0.22 to account better for unscaled features. Set gamma explicitly to 'auto' or 'scale' to avoid this warning.\n",
      "  \"avoid this warning.\", FutureWarning)\n"
     ]
    }
   ],
   "source": [
    "print(\"True positives are\")\n",
    "TP = confusion[1,1]\n",
    "print(TP)\n",
    "print(\"True Negatives are\") \n",
    "TN = confusion[0,0]\n",
    "print(TN)\n",
    "print(\"False positives are\") \n",
    "FP = confusion[0,1]\n",
    "print(FP)\n",
    "print(\"False negatives are\") \n",
    "FN = confusion[1,0]\n",
    "\n",
    "\n",
    "classifier = SVC()\n",
    "classifier.fit(X_train,y_train)\n",
    "print (classifier.score(X_test,y_test))"
   ]
  },
  {
   "cell_type": "code",
   "execution_count": 59,
   "metadata": {},
   "outputs": [
    {
     "name": "stdout",
     "output_type": "stream",
     "text": [
      "Confusion matrix, without normalization\n",
      "[[84 22]\n",
      " [24 63]]\n"
     ]
    },
    {
     "data": {
      "image/png": "[encoded data removed]",
      "text/plain": [
       "<Figure size 432x288 with 2 Axes>"
      ]
     },
     "metadata": {},
     "output_type": "display_data"
    }
   ],
   "source": [
    "# Compute and plot confusion matrix\n",
    "compute_cnf(classifier,X_test,y_test)"
   ]
  },
  {
   "cell_type": "code",
   "execution_count": 60,
   "metadata": {},
   "outputs": [
    {
     "name": "stdout",
     "output_type": "stream",
     "text": [
      "0.8\n"
     ]
    }
   ],
   "source": [
    "#Calculate recall or sensitivity score\n",
    "from sklearn import metrics\n",
    "# Classification accuracy of logistic regression\n",
    "print(metrics.recall_score(y_test,y_pred_class))"
   ]
  },
  {
   "cell_type": "code",
   "execution_count": 61,
   "metadata": {},
   "outputs": [
    {
     "name": "stdout",
     "output_type": "stream",
     "text": [
      "0.7764705882352941\n",
      "0.6823529411764706\n",
      "0.7411764705882353\n"
     ]
    },
    {
     "data": {
      "image/png": "[encoded data removed]",
      "text/plain": [
       "<Figure size 432x288 with 1 Axes>"
      ]
     },
     "metadata": {},
     "output_type": "display_data"
    }
   ],
   "source": [
    "# Classification accuracy of KNN\n",
    "print(metrics.recall_score(y_test,y_knn_pred_class))\n",
    "\n",
    "# Classification accuracy of Decision tree\n",
    "print(metrics.recall_score(y_test,y_dtc_pred_class))\n",
    "\n",
    "# Classification accuracy of support vector Matrix\n",
    "print(metrics.recall_score(y_test,y_svm_pred_class))\n",
    "\n",
    "recall_score = [0.79,0.75,0.70,0.64]\n",
    "Classifier=['LogisticReg','KNN','SVM','DescionTree']\n",
    "plt.plot(Classifier,Acc_score)\n",
    "plt.ylim([0.0, 1.0])\n",
    "plt.rcParams['font.size'] = 12\n",
    "plt.title('Sensitivity of Breast cancer classifier')\n",
    "plt.xlabel('Classifier ')\n",
    "plt.ylabel('True Positive Rate (Sensitivity)')\n",
    "plt.grid(True)\n",
    "plt.show()\n"
   ]
  },
  {
   "cell_type": "code",
   "execution_count": 62,
   "metadata": {},
   "outputs": [],
   "source": [
    "#IMPORTANT: first argument is true values, second argument is predicted probabilities\n",
    "\n",
    "# we pass y_test and y_pred_prob\n",
    "# we do not use y_pred_class, because it will give incorrect results without generating an error\n",
    "# roc_curve returns 3 objects fpr, tpr, thresholds\n",
    "# fpr: false positive rate\n",
    "# tpr: true positive rate\n",
    "\n",
    "# store the predicted probabilities for class 1\n",
    "y_pred_prob = logreg.predict_proba(X_test)[:, 1]\n",
    "fpr, tpr, thresholds = roc_curve(y_test, y_pred_prob)"
   ]
  },
  {
   "cell_type": "code",
   "execution_count": 63,
   "metadata": {},
   "outputs": [
    {
     "data": {
      "image/png": "[encoded data removed]",
      "text/plain": [
       "<Figure size 432x288 with 1 Axes>"
      ]
     },
     "metadata": {},
     "output_type": "display_data"
    }
   ],
   "source": [
    "plt.plot(fpr, tpr)\n",
    "plt.xlim([0.0, 1.0])\n",
    "plt.ylim([0.0, 1.0])\n",
    "plt.rcParams['font.size'] = 12\n",
    "plt.title('ROC curve for LogisticRegression classifier')\n",
    "plt.xlabel('False Positive Rate (1 - Specificity)')\n",
    "plt.ylabel('True Positive Rate (Sensitivity)')\n",
    "plt.grid(True)\n",
    "plt.show()"
   ]
  },
  {
   "cell_type": "code",
   "execution_count": 64,
   "metadata": {},
   "outputs": [
    {
     "data": {
      "image/png": "[encoded data removed]",
      "text/plain": [
       "<Figure size 432x288 with 1 Axes>"
      ]
     },
     "metadata": {},
     "output_type": "display_data"
    }
   ],
   "source": [
    "# store the predicted probabilities for class Knn\n",
    "knn_y_pred_prob = knn.predict_proba(X_test)[:, 1]\n",
    "fpr, tpr, thresholds = roc_curve(y_test, knn_y_pred_prob)\n",
    "plt.plot(fpr, tpr)\n",
    "plt.xlim([0.0, 1.0])\n",
    "plt.ylim([0.0, 1.0])\n",
    "plt.rcParams['font.size'] = 12\n",
    "plt.title('ROC curve for Knn classifier')\n",
    "plt.xlabel('False Positive Rate (1 - Specificity)')\n",
    "plt.ylabel('True Positive Rate (Sensitivity)')\n",
    "plt.grid(True)\n",
    "plt.show()"
   ]
  },
  {
   "cell_type": "code",
   "execution_count": 65,
   "metadata": {},
   "outputs": [
    {
     "data": {
      "image/png": "[encoded data removed]",
      "text/plain": [
       "<Figure size 432x288 with 1 Axes>"
      ]
     },
     "metadata": {},
     "output_type": "display_data"
    }
   ],
   "source": [
    "y_pred_prob = dtc.predict_proba(X_test)[:, 1]\n",
    "fpr, tpr, thresholds = roc_curve(y_test, y_pred_prob)\n",
    "\n",
    "plt.plot(fpr, tpr)\n",
    "plt.xlim([0.0, 1.0])\n",
    "plt.ylim([0.0, 1.0])\n",
    "plt.rcParams['font.size'] = 12\n",
    "plt.title('ROC curve for Knn classifier')\n",
    "plt.xlabel('False Positive Rate (1 - Specificity)')\n",
    "plt.ylabel('True Positive Rate (Sensitivity)')\n",
    "plt.grid(True)\n",
    "plt.show()"
   ]
  },
  {
   "cell_type": "code",
   "execution_count": 66,
   "metadata": {},
   "outputs": [],
   "source": [
    "##ROC Analysis for all Classifiers\n",
    "# Parameters for the AUC Plot\n",
    "LW = 1.5 # line width for plots\n",
    "LL = \"lower right\" # legend location\n",
    "LC1 = 'red' # Line Color \n",
    "LC2 = 'blue' # Line Color \n",
    "LC3 = 'orange' # Line Color \n",
    "LC4 = 'black' # Line Color \n",
    "LC5 = 'cyan' # Line Color \n",
    "LC6 = 'green' # Line Color "
   ]
  },
  {
   "cell_type": "code",
   "execution_count": 67,
   "metadata": {},
   "outputs": [],
   "source": [
    "def getAUCScore(testdata,preddata,classifiername):\n",
    "    fpr, tpr, th = roc_curve(testdata, preddata) # False Positive Rate, True Positive Rate, probability thresholds\n",
    "    AUC = auc(fpr, tpr)\n",
    "    print (\"For Classifier \",classifiername,\":\")\n",
    "    print (\"\\nTP rates:\", np.round(tpr, 2))\n",
    "    print (\"\\nFP rates:\", np.round(fpr, 2))\n",
    "    print (\"\\nProbability thresholds:\", np.round(th, 2),'\\n\\n')\n",
    "    return fpr, tpr, th, AUC"
   ]
  },
  {
   "cell_type": "code",
   "execution_count": 68,
   "metadata": {},
   "outputs": [
    {
     "name": "stdout",
     "output_type": "stream",
     "text": [
      "For Classifier  Logistic Regression :\n",
      "\n",
      "TP rates: [0.  0.8 1. ]\n",
      "\n",
      "FP rates: [0.   0.15 1.  ]\n",
      "\n",
      "Probability thresholds: [2 1 0] \n",
      "\n",
      "\n",
      "For Classifier  Decision Tree :\n",
      "\n",
      "TP rates: [0.   0.68 1.  ]\n",
      "\n",
      "FP rates: [0.   0.19 1.  ]\n",
      "\n",
      "Probability thresholds: [2 1 0] \n",
      "\n",
      "\n",
      "For Classifier  k Nearest Neighbors :\n",
      "\n",
      "TP rates: [0.   0.78 1.  ]\n",
      "\n",
      "FP rates: [0.   0.25 1.  ]\n",
      "\n",
      "Probability thresholds: [2 1 0] \n",
      "\n",
      "\n",
      "For Classifier  Support vector :\n",
      "\n",
      "TP rates: [0.   0.74 1.  ]\n",
      "\n",
      "FP rates: [0.   0.22 1.  ]\n",
      "\n",
      "Probability thresholds: [2 1 0] \n",
      "\n",
      "\n"
     ]
    }
   ],
   "source": [
    "fpr_logreg, tpr_logreg, th_logreg, AUC_logreg = getAUCScore(y_test, y_pred_class, \"Logistic Regression\")\n",
    "fpr_dt, tpr_dt, th_dt, AUC_dt = getAUCScore(y_test, y_dtc_pred_class, \"Decision Tree\")\n",
    "fpr_knn, tpr_knn, th_knn, AUC_knn = getAUCScore(y_test, y_knn_pred_class, \"k Nearest Neighbors\")\n",
    "fpr_sv, tpr_sv, th_sv, AUC_sv = getAUCScore(y_test, y_svm_pred_class, \"Support vector\")"
   ]
  },
  {
   "cell_type": "code",
   "execution_count": 69,
   "metadata": {},
   "outputs": [
    {
     "data": {
      "image/png": "[encoded data removed]",
      "text/plain": [
       "<Figure size 432x288 with 1 Axes>"
      ]
     },
     "metadata": {},
     "output_type": "display_data"
    }
   ],
   "source": [
    "#Plot the Results of ROC Analysis/AUC Score\n",
    "plt.figure()\n",
    "plt.title('Receiver Operating Characteristic curve example')\n",
    "plt.xlim([0.0, 1.0])\n",
    "plt.ylim([0.0, 1.05])\n",
    "plt.xlabel('FALSE Positive Rate')\n",
    "plt.ylabel('TRUE Positive Rate')\n",
    "plt.plot(fpr_logreg, tpr_logreg, color=LC1,lw=LW, label='ROC curve LogReg (area = %0.2f)' % AUC_logreg)\n",
    "plt.plot(fpr_dt, tpr_dt, color=LC2,lw=LW, label='ROC curve DT (area = %0.2f)' % AUC_dt)\n",
    "plt.plot(fpr_knn, tpr_knn, color=LC4,lw=LW, label='ROC curve knn (area = %0.2f)' % AUC_knn)\n",
    "plt.plot(fpr_sv, tpr_sv, color=LC5,lw=LW, label='ROC curve SV (area = %0.2f)' % AUC_sv)\n",
    "plt.plot([0, 1], [0, 1], color='navy', lw=LW, linestyle='--') # reference line for SVM\n",
    "plt.legend(loc=LL)\n",
    "plt.show()"
   ]
  },
  {
   "cell_type": "markdown",
   "metadata": {},
   "source": [
    "# Conclusion\n",
    "In this problem false negatives (FN) should not acceptable. \n",
    "If patient is actually having malignant but it is predicted as non-cancerous, is most dangerous so our aim is to improve sensitivity. In other words we need to focus on sensitivity Sensitivity means- When actual value is positive, how often it is predicted correctly? Also known as Recall rate.\n",
    "What is best fit predictive model? \n",
    "# So in the graph above we can clearly see, logistic regression has the highest value of sensitivity. so it is best fit predictive model"
   ]
  }
 ],
 "metadata": {
  "kernelspec": {
   "display_name": "Python 3",
   "language": "python",
   "name": "python3"
  },
  "language_info": {
   "codemirror_mode": {
    "name": "ipython",
    "version": 3
   },
   "file_extension": ".py",
   "mimetype": "text/x-python",
   "name": "python",
   "nbconvert_exporter": "python",
   "pygments_lexer": "ipython3",
   "version": "3.7.4"
  }
 },
 "nbformat": 4,
 "nbformat_minor": 2
}
